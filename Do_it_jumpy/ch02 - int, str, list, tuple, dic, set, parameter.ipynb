{
 "cells": [
  {
   "cell_type": "markdown",
   "id": "3c999c7d",
   "metadata": {},
   "source": [
    "# 파이썬 프로그래밍의 기초, 자료형 \n",
    "\n",
    "1. 숫자형\n",
    "2. 문자열 자료형\n",
    "3. 리스트 자료형\n",
    "4. 튜플 자료형\n",
    "5. 딕셔너리 자료형\n",
    "6. 집합 자료형\n",
    "7. 불 자료형\n",
    "8. 자료형 값 저장하는 공간, 변수"
   ]
  },
  {
   "cell_type": "markdown",
   "id": "55a281d2",
   "metadata": {},
   "source": [
    "## 1. 숫자형"
   ]
  },
  {
   "cell_type": "markdown",
   "id": "fee033e6",
   "metadata": {},
   "source": [
    "- 제곱을 나타내는 연산자 : **\n",
    "- 나머지를 반환하는 연한사 %\n",
    "- 몫을 반환하는 연산자 //\n"
   ]
  },
  {
   "cell_type": "markdown",
   "id": "e1e167aa",
   "metadata": {},
   "source": [
    "## 2. 문자열 자료형\n",
    "#### 문자열 인덱싱 : 파이썬은 0부터 숫자를 센다"
   ]
  },
  {
   "cell_type": "code",
   "execution_count": 7,
   "id": "f2f89b08",
   "metadata": {},
   "outputs": [
    {
     "name": "stdout",
     "output_type": "stream",
     "text": [
      "20010301\n",
      "raniny\n"
     ]
    }
   ],
   "source": [
    "a = '20010301raniny'\n",
    "date = a[:8]\n",
    "weather = a[8:]\n",
    "print(date)\n",
    "print(weather)"
   ]
  },
  {
   "cell_type": "markdown",
   "id": "a9cf13ef",
   "metadata": {},
   "source": [
    "#### f문자열 포매팅 : 문자열 앞에 f접두사를 붙이자"
   ]
  },
  {
   "cell_type": "code",
   "execution_count": 8,
   "id": "e1dc8025",
   "metadata": {},
   "outputs": [
    {
     "data": {
      "text/plain": [
       "'나의 이름은 김유민입니다. 나이는 24입니다.'"
      ]
     },
     "execution_count": 8,
     "metadata": {},
     "output_type": "execute_result"
    }
   ],
   "source": [
    "name = '김유민'\n",
    "age = 24\n",
    "f'나의 이름은 {name}입니다. 나이는 {age}입니다.'"
   ]
  },
  {
   "cell_type": "markdown",
   "id": "902bb247",
   "metadata": {},
   "source": [
    "####  소수점, % 표시하기"
   ]
  },
  {
   "cell_type": "code",
   "execution_count": 9,
   "id": "d1789811",
   "metadata": {},
   "outputs": [
    {
     "name": "stdout",
     "output_type": "stream",
     "text": [
      "3.1422\n"
     ]
    }
   ],
   "source": [
    "y = 3.142244\n",
    "print(f'{y:0.4f}')"
   ]
  },
  {
   "cell_type": "code",
   "execution_count": 10,
   "id": "362a8acf",
   "metadata": {},
   "outputs": [
    {
     "name": "stdout",
     "output_type": "stream",
     "text": [
      "3.141592653589793\n",
      "파이: 3.142\n"
     ]
    }
   ],
   "source": [
    "import math\n",
    "pi=math.pi\n",
    "print(pi)\n",
    "print(f\"파이: {pi:.3f}\")"
   ]
  },
  {
   "cell_type": "code",
   "execution_count": 11,
   "id": "4ef5936a",
   "metadata": {},
   "outputs": [
    {
     "name": "stdout",
     "output_type": "stream",
     "text": [
      "퍼센트: 95.22%\n"
     ]
    }
   ],
   "source": [
    "percent=0.9522\n",
    "print(f\"퍼센트: {percent:.2%}\")"
   ]
  },
  {
   "cell_type": "markdown",
   "id": "95e9e2d1",
   "metadata": {},
   "source": [
    "#### 아니면 함수 만들어서 사용하기"
   ]
  },
  {
   "cell_type": "code",
   "execution_count": null,
   "id": "69b8d9a3",
   "metadata": {},
   "outputs": [],
   "source": [
    "def to_percentage(x) : \n",
    "    return str(round(x,2)) + '%'\n",
    "\n",
    "df['변수명'] = df['변수명'].apply(to_percentage)"
   ]
  },
  {
   "cell_type": "markdown",
   "id": "1a04c4f6",
   "metadata": {},
   "source": [
    "### 문자열 관련 함수"
   ]
  },
  {
   "cell_type": "code",
   "execution_count": 14,
   "id": "09d90caa",
   "metadata": {},
   "outputs": [
    {
     "data": {
      "text/plain": [
       "'a,b,c,d'"
      ]
     },
     "execution_count": 14,
     "metadata": {},
     "output_type": "execute_result"
    }
   ],
   "source": [
    "\",\".join('abcd') #abcd문자열 사이에 , 삽입"
   ]
  },
  {
   "cell_type": "code",
   "execution_count": 15,
   "id": "50c2af53",
   "metadata": {},
   "outputs": [
    {
     "data": {
      "text/plain": [
       "'HI'"
      ]
     },
     "execution_count": 15,
     "metadata": {},
     "output_type": "execute_result"
    }
   ],
   "source": [
    "'hi'.upper()"
   ]
  },
  {
   "cell_type": "code",
   "execution_count": 17,
   "id": "c8774bac",
   "metadata": {},
   "outputs": [
    {
     "data": {
      "text/plain": [
       "'hi'"
      ]
     },
     "execution_count": 17,
     "metadata": {},
     "output_type": "execute_result"
    }
   ],
   "source": [
    "'HI'.lower()"
   ]
  },
  {
   "cell_type": "code",
   "execution_count": 18,
   "id": "be1e31c7",
   "metadata": {},
   "outputs": [
    {
     "data": {
      "text/plain": [
       "'hi'"
      ]
     },
     "execution_count": 18,
     "metadata": {},
     "output_type": "execute_result"
    }
   ],
   "source": [
    "\" hi\".lstrip()  #왼쪽 공백 제거"
   ]
  },
  {
   "cell_type": "code",
   "execution_count": 19,
   "id": "b512527b",
   "metadata": {},
   "outputs": [
    {
     "data": {
      "text/plain": [
       "'hi'"
      ]
     },
     "execution_count": 19,
     "metadata": {},
     "output_type": "execute_result"
    }
   ],
   "source": [
    "\" hi \".strip() #양쪽 공백 제거"
   ]
  },
  {
   "cell_type": "code",
   "execution_count": 20,
   "id": "b85d661b",
   "metadata": {},
   "outputs": [
    {
     "data": {
      "text/plain": [
       "'your leg is too short'"
      ]
     },
     "execution_count": 20,
     "metadata": {},
     "output_type": "execute_result"
    }
   ],
   "source": [
    "a = 'life is too short'\n",
    "a.replace('life', 'your leg') # replace"
   ]
  },
  {
   "cell_type": "code",
   "execution_count": 21,
   "id": "5c5c4de8",
   "metadata": {},
   "outputs": [
    {
     "data": {
      "text/plain": [
       "['life', 'is', 'too', 'short']"
      ]
     },
     "execution_count": 21,
     "metadata": {},
     "output_type": "execute_result"
    }
   ],
   "source": [
    "a = 'life is too short'\n",
    "a.split()"
   ]
  },
  {
   "cell_type": "code",
   "execution_count": 23,
   "id": "e6a2cdfe",
   "metadata": {},
   "outputs": [
    {
     "data": {
      "text/plain": [
       "['life', ' is', ' too', ' short']"
      ]
     },
     "execution_count": 23,
     "metadata": {},
     "output_type": "execute_result"
    }
   ],
   "source": [
    "b = 'life: is: too: short'\n",
    "b.split(':') #괄호안에 나눌 부호 넣기"
   ]
  },
  {
   "cell_type": "markdown",
   "id": "c50b9e43",
   "metadata": {},
   "source": [
    "## 3. 리스트 자료형"
   ]
  },
  {
   "cell_type": "markdown",
   "id": "7bfceec8",
   "metadata": {},
   "source": [
    "#### 리스트 인덱싱"
   ]
  },
  {
   "cell_type": "code",
   "execution_count": 31,
   "id": "2bf50762",
   "metadata": {},
   "outputs": [
    {
     "name": "stdout",
     "output_type": "stream",
     "text": [
      "[1]\n"
     ]
    }
   ],
   "source": [
    "a = [1,3,5,6,7]\n",
    "print(a[0:1])"
   ]
  },
  {
   "cell_type": "markdown",
   "id": "3ccf5092",
   "metadata": {},
   "source": [
    "- 리스트 더하기 + \n",
    "- 리스트 반복하기 *\n",
    "- 길이구하기 : len"
   ]
  },
  {
   "cell_type": "code",
   "execution_count": 32,
   "id": "467afc0f",
   "metadata": {},
   "outputs": [
    {
     "data": {
      "text/plain": [
       "[1, 3]"
      ]
     },
     "execution_count": 32,
     "metadata": {},
     "output_type": "execute_result"
    }
   ],
   "source": [
    "a = [1,2,3]\n",
    "del a[1] #두번째 값 삭제\n",
    "a"
   ]
  },
  {
   "cell_type": "markdown",
   "id": "d195f215",
   "metadata": {},
   "source": [
    "#### 리스트 관련 함수"
   ]
  },
  {
   "cell_type": "code",
   "execution_count": 33,
   "id": "6064b895",
   "metadata": {},
   "outputs": [
    {
     "data": {
      "text/plain": [
       "[1, 2, 3, 4]"
      ]
     },
     "execution_count": 33,
     "metadata": {},
     "output_type": "execute_result"
    }
   ],
   "source": [
    "a = [1,2,3]\n",
    "a.append(4)\n",
    "a"
   ]
  },
  {
   "cell_type": "code",
   "execution_count": 35,
   "id": "5498d420",
   "metadata": {},
   "outputs": [
    {
     "data": {
      "text/plain": [
       "[1, 2, 4, 6, 33]"
      ]
     },
     "execution_count": 35,
     "metadata": {},
     "output_type": "execute_result"
    }
   ],
   "source": [
    "a = [1,4,6,33,2]\n",
    "a.sort()\n",
    "a"
   ]
  },
  {
   "cell_type": "code",
   "execution_count": 40,
   "id": "d6b02e05",
   "metadata": {},
   "outputs": [
    {
     "data": {
      "text/plain": [
       "[4, 1, 2, 3]"
      ]
     },
     "execution_count": 40,
     "metadata": {},
     "output_type": "execute_result"
    }
   ],
   "source": [
    "a = [1,2,3]\n",
    "a.insert(0,4) #첫번째 자리에 4 삽입\n",
    "a"
   ]
  },
  {
   "cell_type": "code",
   "execution_count": 42,
   "id": "fc28ee99",
   "metadata": {},
   "outputs": [
    {
     "data": {
      "text/plain": [
       "[1, 2]"
      ]
     },
     "execution_count": 42,
     "metadata": {},
     "output_type": "execute_result"
    }
   ],
   "source": [
    "a = [1,2,3]\n",
    "a.remove(3) #3제거\n",
    "a"
   ]
  },
  {
   "cell_type": "code",
   "execution_count": 54,
   "id": "0f6e24a8",
   "metadata": {},
   "outputs": [
    {
     "data": {
      "text/plain": [
       "3"
      ]
     },
     "execution_count": 54,
     "metadata": {},
     "output_type": "execute_result"
    }
   ],
   "source": [
    "a = [1,2,3]\n",
    "a.pop() # 마지막부터 나오기"
   ]
  },
  {
   "cell_type": "markdown",
   "id": "66bba5ed",
   "metadata": {},
   "source": [
    "## 4. 튜플 자료형\n",
    "- 리스트는 []으로 둘러싸지만 튜플은 ()로 둘러싼다"
   ]
  },
  {
   "cell_type": "markdown",
   "id": "d3b97290",
   "metadata": {},
   "source": [
    "## 5. 딕셔너리 자료형"
   ]
  },
  {
   "cell_type": "markdown",
   "id": "f4a20290",
   "metadata": {},
   "source": [
    "- key와 value로 이루어져있음"
   ]
  },
  {
   "cell_type": "code",
   "execution_count": 49,
   "id": "ffba82a5",
   "metadata": {},
   "outputs": [
    {
     "name": "stdout",
     "output_type": "stream",
     "text": [
      "10\n",
      "10\n"
     ]
    }
   ],
   "source": [
    "grade = {'pey' : 10, 'juliet' : 99}\n",
    "print(grade['pey'])  #key로 value반환\n",
    "print(grade.get('pey')) # get함수"
   ]
  },
  {
   "cell_type": "code",
   "execution_count": 45,
   "id": "47bb0762",
   "metadata": {},
   "outputs": [
    {
     "data": {
      "text/plain": [
       "dict_keys(['pey', 'juliet'])"
      ]
     },
     "execution_count": 45,
     "metadata": {},
     "output_type": "execute_result"
    }
   ],
   "source": [
    "grade.keys()"
   ]
  },
  {
   "cell_type": "code",
   "execution_count": 46,
   "id": "fd9e802a",
   "metadata": {},
   "outputs": [
    {
     "data": {
      "text/plain": [
       "['pey', 'juliet']"
      ]
     },
     "execution_count": 46,
     "metadata": {},
     "output_type": "execute_result"
    }
   ],
   "source": [
    "list(grade.keys())"
   ]
  },
  {
   "cell_type": "code",
   "execution_count": 48,
   "id": "d960ce03",
   "metadata": {},
   "outputs": [
    {
     "data": {
      "text/plain": [
       "dict_values([10, 99])"
      ]
     },
     "execution_count": 48,
     "metadata": {},
     "output_type": "execute_result"
    }
   ],
   "source": [
    "grade.values()"
   ]
  },
  {
   "cell_type": "markdown",
   "id": "ca764a11",
   "metadata": {},
   "source": [
    "## 6. 집합형\n",
    "- set()의 괄호 안에 리스트를 입력하여 만든다"
   ]
  },
  {
   "cell_type": "code",
   "execution_count": 51,
   "id": "8e54a2ac",
   "metadata": {},
   "outputs": [
    {
     "data": {
      "text/plain": [
       "{1, 2, 3}"
      ]
     },
     "execution_count": 51,
     "metadata": {},
     "output_type": "execute_result"
    }
   ],
   "source": [
    "s1 = set([1,2,3])\n",
    "s1"
   ]
  },
  {
   "cell_type": "markdown",
   "id": "5760f6eb",
   "metadata": {},
   "source": [
    "- 교집합 : &\n",
    "- 합집합 : |\n",
    "- 차집합 : -"
   ]
  },
  {
   "cell_type": "markdown",
   "id": "74ceaf61",
   "metadata": {},
   "source": [
    "## 7. T/F 자료형"
   ]
  },
  {
   "cell_type": "markdown",
   "id": "b6de7dae",
   "metadata": {},
   "source": [
    "- 참 거짓 나타내면 됨"
   ]
  },
  {
   "cell_type": "markdown",
   "id": "5b51437f",
   "metadata": {},
   "source": [
    "## 8. 자료형 변수를 저장하는 공간, 변수"
   ]
  },
  {
   "cell_type": "markdown",
   "id": "9833f43f",
   "metadata": {},
   "source": [
    "- =기호를 써서 넣는다.\n",
    "- copy()를 써서 그대로 넣는다."
   ]
  }
 ],
 "metadata": {
  "kernelspec": {
   "display_name": "Python 3 (ipykernel)",
   "language": "python",
   "name": "python3"
  },
  "language_info": {
   "codemirror_mode": {
    "name": "ipython",
    "version": 3
   },
   "file_extension": ".py",
   "mimetype": "text/x-python",
   "name": "python",
   "nbconvert_exporter": "python",
   "pygments_lexer": "ipython3",
   "version": "3.9.13"
  }
 },
 "nbformat": 4,
 "nbformat_minor": 5
}
