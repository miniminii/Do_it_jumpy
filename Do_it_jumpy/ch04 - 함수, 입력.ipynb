{
 "cells": [
  {
   "cell_type": "markdown",
   "id": "76c77bd5",
   "metadata": {},
   "source": [
    "# ch04. 프로그램의 입력과 출력은 어떻게 해야할까?\n",
    "\n",
    "1. 함수\n",
    "2. 사용자 입력과 출력\n",
    "3. 파일 읽고 쓰기\n"
   ]
  },
  {
   "cell_type": "markdown",
   "id": "cd75f4f1",
   "metadata": {},
   "source": [
    "## 1. 함수\n",
    "\n",
    "#### 함수의 구조\n",
    "- 함수 이름 -> 괄호 안에 입력값 변수 넣어주기"
   ]
  },
  {
   "cell_type": "code",
   "execution_count": 1,
   "id": "f6cb209f",
   "metadata": {},
   "outputs": [
    {
     "data": {
      "text/plain": [
       "7"
      ]
     },
     "execution_count": 1,
     "metadata": {},
     "output_type": "execute_result"
    }
   ],
   "source": [
    "# 함수 만들기\n",
    "\n",
    "def add(a,b) : \n",
    "    return a + b\n",
    "\n",
    "add(3,4)"
   ]
  },
  {
   "cell_type": "code",
   "execution_count": 2,
   "id": "91d7c636",
   "metadata": {},
   "outputs": [
    {
     "data": {
      "text/plain": [
       "7"
      ]
     },
     "execution_count": 2,
     "metadata": {},
     "output_type": "execute_result"
    }
   ],
   "source": [
    "# 일반적인 함수\n",
    "\n",
    "def add(a,b) : \n",
    "    result = a + b\n",
    "    return result\n",
    "\n",
    "add(3,4)"
   ]
  },
  {
   "cell_type": "markdown",
   "id": "6b81d63e",
   "metadata": {},
   "source": [
    "- 입력값이 몇 개가 될지 모를 때는 ?\n",
    "- 여러개의 입력값을 받는 함수 만들기"
   ]
  },
  {
   "cell_type": "code",
   "execution_count": 4,
   "id": "f11dff9e",
   "metadata": {},
   "outputs": [
    {
     "data": {
      "text/plain": [
       "10"
      ]
     },
     "execution_count": 4,
     "metadata": {},
     "output_type": "execute_result"
    }
   ],
   "source": [
    "def add(*args) :  # *기호 넣어주기\n",
    "    result = 0\n",
    "    for i in args :\n",
    "        result = result + i\n",
    "    return result\n",
    "\n",
    "add(1,2,3,4)"
   ]
  },
  {
   "cell_type": "markdown",
   "id": "64c85ebf",
   "metadata": {},
   "source": [
    "- 매개변수들을 많이 설정할수도"
   ]
  },
  {
   "cell_type": "code",
   "execution_count": 6,
   "id": "9cc177c6",
   "metadata": {},
   "outputs": [
    {
     "data": {
      "text/plain": [
       "12"
      ]
     },
     "execution_count": 6,
     "metadata": {},
     "output_type": "execute_result"
    }
   ],
   "source": [
    "def add_or_mul(choice, *args) :\n",
    "    if choice == 'add' :\n",
    "        result = 0\n",
    "        for i in args :\n",
    "            result = result + i\n",
    "    elif choice == 'mul' :\n",
    "        reult = 1\n",
    "        for i in args :\n",
    "            result = result * i\n",
    "    return result\n",
    "\n",
    "add_or_mul('add', 3,4,5)"
   ]
  },
  {
   "cell_type": "code",
   "execution_count": 8,
   "id": "92e950e7",
   "metadata": {},
   "outputs": [
    {
     "data": {
      "text/plain": [
       "2"
      ]
     },
     "execution_count": 8,
     "metadata": {},
     "output_type": "execute_result"
    }
   ],
   "source": [
    "a = 1\n",
    "\n",
    "def vartest(x) :\n",
    "    x = x + 1\n",
    "    return(x)\n",
    "\n",
    "vartest(1)"
   ]
  },
  {
   "cell_type": "markdown",
   "id": "4dc55443",
   "metadata": {},
   "source": [
    "#### lambda\n",
    "- lambda로 만든 함수는 return명령어가 없어도 결과값을 보여준다"
   ]
  },
  {
   "cell_type": "code",
   "execution_count": 9,
   "id": "b718320d",
   "metadata": {},
   "outputs": [
    {
     "data": {
      "text/plain": [
       "7"
      ]
     },
     "execution_count": 9,
     "metadata": {},
     "output_type": "execute_result"
    }
   ],
   "source": [
    "add = lambda a,b : a+b\n",
    "\n",
    "add(3,4)"
   ]
  },
  {
   "cell_type": "markdown",
   "id": "a61e519e",
   "metadata": {},
   "source": [
    "## 2. 사용자 입력과 출력"
   ]
  },
  {
   "cell_type": "markdown",
   "id": "36ca2632",
   "metadata": {},
   "source": [
    "- input 문"
   ]
  },
  {
   "cell_type": "code",
   "execution_count": null,
   "id": "a560735c",
   "metadata": {},
   "outputs": [],
   "source": [
    "number = input('숫자를 입력하세요 : ')"
   ]
  },
  {
   "cell_type": "markdown",
   "id": "73cbeb10",
   "metadata": {},
   "source": [
    "- print문"
   ]
  },
  {
   "cell_type": "markdown",
   "id": "b64d1dd2",
   "metadata": {},
   "source": [
    "## 3. 파일 읽고 쓰기"
   ]
  },
  {
   "cell_type": "markdown",
   "id": "5d7f01e2",
   "metadata": {},
   "source": [
    "- read, readline"
   ]
  }
 ],
 "metadata": {
  "kernelspec": {
   "display_name": "Python 3 (ipykernel)",
   "language": "python",
   "name": "python3"
  },
  "language_info": {
   "codemirror_mode": {
    "name": "ipython",
    "version": 3
   },
   "file_extension": ".py",
   "mimetype": "text/x-python",
   "name": "python",
   "nbconvert_exporter": "python",
   "pygments_lexer": "ipython3",
   "version": "3.9.13"
  }
 },
 "nbformat": 4,
 "nbformat_minor": 5
}
