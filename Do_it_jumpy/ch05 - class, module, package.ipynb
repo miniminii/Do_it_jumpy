{
 "cells": [
  {
   "cell_type": "markdown",
   "id": "ebc1ec6a",
   "metadata": {},
   "source": [
    "# ch5. 파이썬 날개 달기\n",
    "\n",
    "1. 클래스\n",
    "2. 모듈\n",
    "3. 패키지\n",
    "4. 예외처리\n",
    "5. 내장 함수\n",
    "6. 라이브러리\n"
   ]
  },
  {
   "cell_type": "markdown",
   "id": "4ce5c29d",
   "metadata": {},
   "source": [
    "## 1. 클래스\n",
    "\n",
    "- 별개의 계산기 cal1, cal2가 각각의 역할을 수행한다.\n",
    "- 다른 계산기의 결괏값과 상관없이 독립적인 값을 유지한다.\n"
   ]
  },
  {
   "cell_type": "code",
   "execution_count": 1,
   "id": "36cf8319",
   "metadata": {},
   "outputs": [],
   "source": [
    "class Calculator :\n",
    "      def __init__(self):\n",
    "        self.result = 0\n",
    "     \n",
    "      def add(self, num) :\n",
    "        self.result += num\n",
    "        return self.result\n",
    "\n",
    "cal1 = Calculator()\n",
    "cal2 = Calculator()"
   ]
  },
  {
   "cell_type": "markdown",
   "id": "3842e9a5",
   "metadata": {},
   "source": [
    "### 클래스와 객체"
   ]
  },
  {
   "cell_type": "code",
   "execution_count": 2,
   "id": "02010493",
   "metadata": {},
   "outputs": [],
   "source": [
    "class Cookie : \n",
    "     pass"
   ]
  },
  {
   "cell_type": "code",
   "execution_count": 3,
   "id": "64cdca02",
   "metadata": {},
   "outputs": [],
   "source": [
    "a = Cookie()\n",
    "b = Cookie()\n",
    "\n",
    "# cookie가 클래스 / a,b가 객체이다"
   ]
  },
  {
   "cell_type": "markdown",
   "id": "d052a351",
   "metadata": {},
   "source": [
    "### 사칙연산 클래스 만들기"
   ]
  },
  {
   "cell_type": "code",
   "execution_count": 5,
   "id": "532da8e1",
   "metadata": {},
   "outputs": [],
   "source": [
    "class FourCal : \n",
    "      pass"
   ]
  },
  {
   "cell_type": "code",
   "execution_count": 6,
   "id": "3cf974a4",
   "metadata": {},
   "outputs": [
    {
     "data": {
      "text/plain": [
       "__main__.FourCal"
      ]
     },
     "execution_count": 6,
     "metadata": {},
     "output_type": "execute_result"
    }
   ],
   "source": [
    "a = FourCal()\n",
    "type(a)  #객체a의 타입은 클래스다."
   ]
  },
  {
   "cell_type": "markdown",
   "id": "5179c31e",
   "metadata": {},
   "source": [
    "- 클래스 안에 setdata함수를 만든다. \n",
    "- 클래스 안에 구현된 함수는 메서드 method라고 부른다.\n",
    "- setdata 메서드는 매개변수로 self, first, second 3개 입력값을 받는다."
   ]
  },
  {
   "cell_type": "code",
   "execution_count": 8,
   "id": "480b00c2",
   "metadata": {},
   "outputs": [],
   "source": [
    "class FourCal :\n",
    "    def setdata(self, first, second) :\n",
    "        self.first = first\n",
    "        self.second = second"
   ]
  },
  {
   "cell_type": "markdown",
   "id": "79fe4ef4",
   "metadata": {},
   "source": [
    "- 하지만, 첫번째 매개변수 self에는 객체a가 자동전달되어서 따로 지정해주지 않아도 된다."
   ]
  },
  {
   "cell_type": "code",
   "execution_count": 10,
   "id": "3976d8e8",
   "metadata": {},
   "outputs": [
    {
     "name": "stdout",
     "output_type": "stream",
     "text": [
      "4\n",
      "2\n"
     ]
    }
   ],
   "source": [
    "a = FourCal()\n",
    "a.setdata(4,2)\n",
    "print(a.first)\n",
    "print(a.second)"
   ]
  },
  {
   "cell_type": "markdown",
   "id": "4780e3b5",
   "metadata": {},
   "source": [
    "- 더하기 기능 만들기"
   ]
  },
  {
   "cell_type": "code",
   "execution_count": 11,
   "id": "3b709c76",
   "metadata": {},
   "outputs": [],
   "source": [
    "class FourCal :\n",
    "    def setdata(self, first, second) :\n",
    "        self.first = first\n",
    "        self.second = second\n",
    "\n",
    "    def add(self) :\n",
    "        result = self.first + self.second\n",
    "        return result"
   ]
  },
  {
   "cell_type": "code",
   "execution_count": 12,
   "id": "8cd3cd8d",
   "metadata": {},
   "outputs": [
    {
     "data": {
      "text/plain": [
       "6"
      ]
     },
     "execution_count": 12,
     "metadata": {},
     "output_type": "execute_result"
    }
   ],
   "source": [
    "a = FourCal()\n",
    "a.setdata(4,2)\n",
    "a.add()"
   ]
  },
  {
   "cell_type": "markdown",
   "id": "45e495a2",
   "metadata": {},
   "source": [
    "### 생성자(construnction)"
   ]
  },
  {
   "cell_type": "markdown",
   "id": "2299fabf",
   "metadata": {},
   "source": [
    "- setdata보다 생성자로 객체에 초깃값을 주는게 안전한 방법이다."
   ]
  },
  {
   "cell_type": "code",
   "execution_count": 13,
   "id": "d9a204ff",
   "metadata": {},
   "outputs": [],
   "source": [
    "class FourCal :\n",
    "        def __init__(self, first,second) :\n",
    "            self.first = first\n",
    "            self.second = second\n",
    "\n",
    "        def setdata(self, first, second) :\n",
    "            self.first = first\n",
    "            self.second = second\n",
    "        def add(self) :\n",
    "            result = self.first + self.second\n",
    "            return result"
   ]
  },
  {
   "cell_type": "markdown",
   "id": "0d678553",
   "metadata": {},
   "source": [
    "## 2. 모듈"
   ]
  },
  {
   "cell_type": "markdown",
   "id": "9df792f9",
   "metadata": {},
   "source": [
    "- from 모듈이름 import 모듈함수"
   ]
  },
  {
   "cell_type": "code",
   "execution_count": null,
   "id": "7f1250c7",
   "metadata": {},
   "outputs": [],
   "source": [
    "#mod1.py\n",
    "def add(a,b) :\n",
    "    return a + b\n",
    "\n",
    "def sub(a,b) :\n",
    "    return a - b"
   ]
  },
  {
   "cell_type": "code",
   "execution_count": null,
   "id": "fd70412a",
   "metadata": {},
   "outputs": [],
   "source": [
    "import mod1\n",
    "print(mod1.add(3,4))"
   ]
  },
  {
   "cell_type": "markdown",
   "id": "799730d3",
   "metadata": {},
   "source": [
    "#### if__name__ == \"__main__\""
   ]
  },
  {
   "cell_type": "markdown",
   "id": "526230c6",
   "metadata": {},
   "source": [
    "- 파일을 실행했을 때는 if__name__ == \"main\"이 참이 되어 if문 다음 문장이 수행된다."
   ]
  },
  {
   "cell_type": "code",
   "execution_count": null,
   "id": "cbae0696",
   "metadata": {},
   "outputs": [],
   "source": [
    "#mod1.py\n",
    "def add(a,b) :\n",
    "    return a + b\n",
    "\n",
    "def sub(a,b) :\n",
    "    return a - b\n",
    "\n",
    "if__name__ == \"__main__\" : \n",
    "    print(add(1,4))\n",
    "    print(sun(4,2))"
   ]
  },
  {
   "cell_type": "markdown",
   "id": "fd28ef4f",
   "metadata": {},
   "source": [
    "## 3. 패키지"
   ]
  },
  {
   "cell_type": "code",
   "execution_count": null,
   "id": "97f3784e",
   "metadata": {},
   "outputs": [],
   "source": [
    "#echo.py\n",
    "def echo_test() :\n",
    "    print(\"echo\")"
   ]
  },
  {
   "cell_type": "code",
   "execution_count": null,
   "id": "6ccb1ace",
   "metadata": {},
   "outputs": [],
   "source": [
    "#render.py\n",
    "def render_test() :\n",
    "    print(\"render\")"
   ]
  },
  {
   "cell_type": "markdown",
   "id": "18a6efc4",
   "metadata": {},
   "source": [
    "- 패키지 안의 함수를 실행하는 방법으로 세가지가 있다."
   ]
  },
  {
   "cell_type": "code",
   "execution_count": null,
   "id": "e6d6e7ea",
   "metadata": {},
   "outputs": [],
   "source": [
    "import game.sound.echo\n",
    "game.sound.echo.echo_test()"
   ]
  },
  {
   "cell_type": "code",
   "execution_count": null,
   "id": "2892a687",
   "metadata": {},
   "outputs": [],
   "source": [
    "from game.sound import echo\n",
    "echo.echo_test()"
   ]
  },
  {
   "cell_type": "code",
   "execution_count": null,
   "id": "f299adc1",
   "metadata": {},
   "outputs": [],
   "source": [
    "from game.sound.echo import echo_test\n",
    "echo_test()"
   ]
  },
  {
   "cell_type": "markdown",
   "id": "d5a4abd2",
   "metadata": {},
   "source": [
    "- __init__.py 의 용도 : \n",
    "- 패키지에서 모든것(*)을 import할 때 조심\n",
    "- 특정 디렉터리의 모듈을 *를 사용하여 import할 때에는 다음과 같이 해당 디렉터리의 __init__.py파일에 __all__변수를 설정하고 import할 수 있는 모듈을 정의해주어야한다."
   ]
  },
  {
   "cell_type": "markdown",
   "id": "d793a225",
   "metadata": {},
   "source": [
    "## 4. 예외처리\n",
    "- 오류 예외 처리하는 기법"
   ]
  },
  {
   "cell_type": "code",
   "execution_count": null,
   "id": "a7608819",
   "metadata": {},
   "outputs": [],
   "source": [
    "#### try, except문"
   ]
  },
  {
   "cell_type": "code",
   "execution_count": null,
   "id": "223fb1a6",
   "metadata": {},
   "outputs": [],
   "source": [
    "# 1. try, except만 쓰는 방법\n",
    "try : \n",
    "    ...\n",
    "except : \n",
    "    ..."
   ]
  },
  {
   "cell_type": "code",
   "execution_count": null,
   "id": "eb8ceee5",
   "metadata": {},
   "outputs": [],
   "source": [
    "# 2. 발생오류만 포함한 except문\n",
    "try : \n",
    "    ...\n",
    "except 발생오류 :\n",
    "    ..."
   ]
  },
  {
   "cell_type": "code",
   "execution_count": null,
   "id": "e45aa0be",
   "metadata": {},
   "outputs": [],
   "source": [
    "# 3. 발생오류와 오류메세지 변수까지 포함한 except문\n",
    "try : \n",
    "    ...\n",
    "except 발생 오류 as 오류 메세지 변수"
   ]
  },
  {
   "cell_type": "code",
   "execution_count": 14,
   "id": "8a0d1140",
   "metadata": {},
   "outputs": [
    {
     "name": "stdout",
     "output_type": "stream",
     "text": [
      "division by zero\n"
     ]
    }
   ],
   "source": [
    "try : \n",
    "    4/0\n",
    "except ZeroDivisionError as e :\n",
    "    print(e)"
   ]
  },
  {
   "cell_type": "markdown",
   "id": "35a44e80",
   "metadata": {},
   "source": [
    "#### try ... finally"
   ]
  },
  {
   "cell_type": "code",
   "execution_count": null,
   "id": "38612956",
   "metadata": {},
   "outputs": [],
   "source": [
    "# 여러개의 오류 처리하기\n",
    "try : \n",
    "    ...\n",
    "except 발생오류1 :\n",
    "    ...\n",
    "except 발생오류2 :\n",
    "    ..."
   ]
  },
  {
   "cell_type": "markdown",
   "id": "0ed5ce6d",
   "metadata": {},
   "source": [
    "- 오류 회피하려면 except ~ : pass 해주면 된다."
   ]
  },
  {
   "cell_type": "markdown",
   "id": "6be29fbb",
   "metadata": {},
   "source": [
    "## 5. 내장함수"
   ]
  },
  {
   "cell_type": "markdown",
   "id": "7bc4dfbd",
   "metadata": {},
   "source": [
    "#### abs"
   ]
  },
  {
   "cell_type": "code",
   "execution_count": 16,
   "id": "24a6a20d",
   "metadata": {},
   "outputs": [
    {
     "name": "stdout",
     "output_type": "stream",
     "text": [
      "2\n",
      "2\n",
      "1.2\n"
     ]
    }
   ],
   "source": [
    "# abs\n",
    "print(abs(2))\n",
    "print(abs(-2))\n",
    "print(abs(-1.2))"
   ]
  },
  {
   "cell_type": "markdown",
   "id": "ce9faf49",
   "metadata": {},
   "source": [
    "#### all : 반복가능한 자료형 x를 입력변수로 받아서 참이면 true"
   ]
  },
  {
   "cell_type": "code",
   "execution_count": 18,
   "id": "918d2f99",
   "metadata": {},
   "outputs": [
    {
     "name": "stdout",
     "output_type": "stream",
     "text": [
      "True\n",
      "False\n"
     ]
    }
   ],
   "source": [
    "# all\n",
    "print(all([1,2,3]))\n",
    "print(all([1,2,3,0]))"
   ]
  },
  {
   "cell_type": "markdown",
   "id": "e0b50b28",
   "metadata": {},
   "source": [
    "#### any : x중 하나라도 참이면 true "
   ]
  },
  {
   "cell_type": "code",
   "execution_count": 19,
   "id": "6fee6f6b",
   "metadata": {},
   "outputs": [
    {
     "name": "stdout",
     "output_type": "stream",
     "text": [
      "True\n",
      "False\n"
     ]
    }
   ],
   "source": [
    "# any \n",
    "print(any([1,2,3,0]))\n",
    "print(any([0,\"\"]))"
   ]
  },
  {
   "cell_type": "markdown",
   "id": "1a904fdd",
   "metadata": {},
   "source": [
    "#### chr - 아스키ascii코드"
   ]
  },
  {
   "cell_type": "code",
   "execution_count": 20,
   "id": "23df6fae",
   "metadata": {},
   "outputs": [
    {
     "name": "stdout",
     "output_type": "stream",
     "text": [
      "a\n"
     ]
    }
   ],
   "source": [
    "# chr - 아스키ascii코드\n",
    "print(chr(97))"
   ]
  },
  {
   "cell_type": "markdown",
   "id": "fad698d9",
   "metadata": {},
   "source": [
    "#### dir : 객체가 가지고 있는 변수나 함수"
   ]
  },
  {
   "cell_type": "code",
   "execution_count": null,
   "id": "f35801a7",
   "metadata": {},
   "outputs": [],
   "source": [
    "#dir : 객체가 가지고 있는 변수나 함수"
   ]
  },
  {
   "cell_type": "markdown",
   "id": "02c67443",
   "metadata": {},
   "source": [
    "#### divmod : a를 b로 나눈 몫과 나머지\n"
   ]
  },
  {
   "cell_type": "code",
   "execution_count": 21,
   "id": "ea58874b",
   "metadata": {},
   "outputs": [
    {
     "data": {
      "text/plain": [
       "(2, 1)"
      ]
     },
     "execution_count": 21,
     "metadata": {},
     "output_type": "execute_result"
    }
   ],
   "source": [
    "# divmod : a를 b로 나눈 몫과 나머지\n",
    "divmod(7,3)"
   ]
  },
  {
   "cell_type": "markdown",
   "id": "203e5485",
   "metadata": {},
   "source": [
    "#### enumerate : 자료형을 입력으로 받아 인덱스값을 포함하는 객체를 돌려준다.\n"
   ]
  },
  {
   "cell_type": "code",
   "execution_count": 22,
   "id": "bfc1409c",
   "metadata": {},
   "outputs": [
    {
     "data": {
      "text/plain": [
       "<enumerate at 0x7f8e6e44a200>"
      ]
     },
     "execution_count": 22,
     "metadata": {},
     "output_type": "execute_result"
    }
   ],
   "source": [
    "# enumerate : 자료형을 입력으로 받아 인덱스값을 포함하는 객체를 돌려준다.\n",
    "enumerate(['body', 'foo', 'bar'])"
   ]
  },
  {
   "cell_type": "code",
   "execution_count": 23,
   "id": "55ffdef8",
   "metadata": {},
   "outputs": [
    {
     "name": "stdout",
     "output_type": "stream",
     "text": [
      "0 body\n",
      "1 foo\n",
      "2 bar\n"
     ]
    }
   ],
   "source": [
    "for i, name in enumerate(['body', 'foo', 'bar']) :\n",
    "     print(i, name)"
   ]
  },
  {
   "cell_type": "markdown",
   "id": "2d10a2a3",
   "metadata": {},
   "source": [
    "#### eval - 문자열을 입력으로 받아 문자열을 실행한 겨로가값\n"
   ]
  },
  {
   "cell_type": "code",
   "execution_count": 24,
   "id": "d1c558d0",
   "metadata": {},
   "outputs": [
    {
     "data": {
      "text/plain": [
       "3"
      ]
     },
     "execution_count": 24,
     "metadata": {},
     "output_type": "execute_result"
    }
   ],
   "source": [
    "# eval - 문자열을 입력으로 받아 문자열을 실행한 겨로가값\n",
    "eval('1+2')"
   ]
  },
  {
   "cell_type": "markdown",
   "id": "43c13671",
   "metadata": {},
   "source": [
    "#### filter함수는 첫번째 인수로 함수이름을, 두번째 인수로 그 함수에 차례로 들어갈 반복가능한 자료형을 받는다\n"
   ]
  },
  {
   "cell_type": "code",
   "execution_count": 25,
   "id": "480c19c0",
   "metadata": {},
   "outputs": [
    {
     "name": "stdout",
     "output_type": "stream",
     "text": [
      "[1, 2, 6]\n"
     ]
    }
   ],
   "source": [
    "#filter : filter함수는 첫번째 인수로 함수이름을, 두번째 인수로 그 함수에 차례로 들어갈 반복가능한 자료형을 받는다\n",
    "\n",
    "def positive(X) :\n",
    "    return X > 0\n",
    "\n",
    "print(list(filter(positive, [1,-3,2,0,-5,6])))"
   ]
  },
  {
   "cell_type": "markdown",
   "id": "e422a863",
   "metadata": {},
   "source": [
    "#### hex : 정수값을 입력받아 16진수로 변환\n"
   ]
  },
  {
   "cell_type": "code",
   "execution_count": 26,
   "id": "1277afad",
   "metadata": {},
   "outputs": [
    {
     "data": {
      "text/plain": [
       "'0xea'"
      ]
     },
     "execution_count": 26,
     "metadata": {},
     "output_type": "execute_result"
    }
   ],
   "source": [
    "#hex : 정수값을 입력받아 16진수로 변환\n",
    "hex(234)"
   ]
  },
  {
   "cell_type": "markdown",
   "id": "bb032fab",
   "metadata": {},
   "source": [
    "#### id : 객체를 입력받아 객체의 고유주소값을 돌려준다\n"
   ]
  },
  {
   "cell_type": "code",
   "execution_count": 27,
   "id": "4bcfcd04",
   "metadata": {},
   "outputs": [
    {
     "data": {
      "text/plain": [
       "140249650043248"
      ]
     },
     "execution_count": 27,
     "metadata": {},
     "output_type": "execute_result"
    }
   ],
   "source": [
    "#id : 객체를 입력받아 객체의 고유주소값을 돌려준다\n",
    "id(3)"
   ]
  },
  {
   "cell_type": "markdown",
   "id": "cd419b77",
   "metadata": {},
   "source": [
    "#### input() :사용자 입력을 받는 함수"
   ]
  },
  {
   "cell_type": "code",
   "execution_count": null,
   "id": "8542d32a",
   "metadata": {},
   "outputs": [],
   "source": [
    "#input()\n",
    "a = input()\n"
   ]
  },
  {
   "cell_type": "markdown",
   "id": "2b840e2b",
   "metadata": {},
   "source": [
    "#### 그외\n",
    "- len \n",
    "- list\n",
    "- map : 함수와 반복 가능한 자료형을 입력으로 받는다. map은 입력받은 자료형의 각 요소를 함수가 수행한 결과를 묶어서 돌려준다.\n",
    "- max\n",
    "- min\n",
    "- oct : 8진수로 만듦\n",
    "- open : 파일 읽기\n",
    "- pow : x의 y제곱한 결과값\n",
    "- range\n",
    "- round\n",
    "- sorted\n",
    "- str\n",
    "- sum\n",
    "- tuple\n",
    "- type\n",
    "- zip"
   ]
  },
  {
   "cell_type": "code",
   "execution_count": 30,
   "id": "1ac3bf01",
   "metadata": {},
   "outputs": [
    {
     "data": {
      "text/plain": [
       "[2, 4, 6, 8]"
      ]
     },
     "execution_count": 30,
     "metadata": {},
     "output_type": "execute_result"
    }
   ],
   "source": [
    "#### map\n",
    "def twotimes(x) : \n",
    "    return x*2\n",
    "\n",
    "list(map(twotimes, [1,2,3,4]))"
   ]
  },
  {
   "cell_type": "markdown",
   "id": "1021cff6",
   "metadata": {},
   "source": [
    "## 6. 라이브러리\n",
    "\n",
    "- sys 모듈은 파이썬 인터프리터가 제공하는 변수와 함수를 직접 제어할 수 있게 해주는 모듈\n",
    "- pickle - 객체를 그대로 유지하면서 불러올 수 있음\n",
    "- shutil : 파일을 복사해주는 모듈\n",
    "- glob\n",
    "- tempfile\n",
    "- time"
   ]
  },
  {
   "cell_type": "code",
   "execution_count": null,
   "id": "3adbf7d3",
   "metadata": {},
   "outputs": [],
   "source": []
  }
 ],
 "metadata": {
  "kernelspec": {
   "display_name": "Python 3 (ipykernel)",
   "language": "python",
   "name": "python3"
  },
  "language_info": {
   "codemirror_mode": {
    "name": "ipython",
    "version": 3
   },
   "file_extension": ".py",
   "mimetype": "text/x-python",
   "name": "python",
   "nbconvert_exporter": "python",
   "pygments_lexer": "ipython3",
   "version": "3.9.13"
  }
 },
 "nbformat": 4,
 "nbformat_minor": 5
}
