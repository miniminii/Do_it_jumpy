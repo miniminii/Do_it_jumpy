{
 "cells": [
  {
   "cell_type": "markdown",
   "id": "c980a7dc",
   "metadata": {},
   "source": [
    "# 프로그램의 구조를 쌓는다 ! 제어문\n",
    "\n",
    "1. if문\n",
    "2. while문\n",
    "3. for문"
   ]
  },
  {
   "cell_type": "markdown",
   "id": "20ef6b10",
   "metadata": {},
   "source": [
    "## 1. if 문"
   ]
  },
  {
   "cell_type": "code",
   "execution_count": 1,
   "id": "3529a1a3",
   "metadata": {},
   "outputs": [
    {
     "name": "stdout",
     "output_type": "stream",
     "text": [
      "택시를 타고 가라\n"
     ]
    }
   ],
   "source": [
    "money = True\n",
    "if money : \n",
    "    print('택시를 타고 가라')\n",
    "else :\n",
    "    print('걸어가라')  #true로 받음"
   ]
  },
  {
   "cell_type": "code",
   "execution_count": 3,
   "id": "da080477",
   "metadata": {},
   "outputs": [
    {
     "name": "stdout",
     "output_type": "stream",
     "text": [
      "걸어가라\n"
     ]
    }
   ],
   "source": [
    "money = 2000\n",
    "if money > 3000 : \n",
    "    print('택시 타라')\n",
    "else :\n",
    "    print('걸어가라')"
   ]
  },
  {
   "cell_type": "markdown",
   "id": "dc653f5a",
   "metadata": {},
   "source": [
    "- x in s, x not in s"
   ]
  },
  {
   "cell_type": "code",
   "execution_count": 4,
   "id": "b759c644",
   "metadata": {},
   "outputs": [
    {
     "data": {
      "text/plain": [
       "True"
      ]
     },
     "execution_count": 4,
     "metadata": {},
     "output_type": "execute_result"
    }
   ],
   "source": [
    "1 in [1,2,3]"
   ]
  },
  {
   "cell_type": "code",
   "execution_count": 5,
   "id": "aa412079",
   "metadata": {},
   "outputs": [
    {
     "data": {
      "text/plain": [
       "False"
      ]
     },
     "execution_count": 5,
     "metadata": {},
     "output_type": "execute_result"
    }
   ],
   "source": [
    "1 not in [1,2,3]"
   ]
  },
  {
   "cell_type": "code",
   "execution_count": 6,
   "id": "27ca8735",
   "metadata": {},
   "outputs": [
    {
     "name": "stdout",
     "output_type": "stream",
     "text": [
      "택시 타라\n"
     ]
    }
   ],
   "source": [
    "pocket = ['paper', 'cellphone', 'money']\n",
    "\n",
    "if 'money' in pocket : \n",
    "    print('택시 타라')\n",
    "else : \n",
    "    print('걸어가라')"
   ]
  },
  {
   "cell_type": "markdown",
   "id": "f46c90ee",
   "metadata": {},
   "source": [
    "#### 조건문 표현식"
   ]
  },
  {
   "cell_type": "code",
   "execution_count": 9,
   "id": "7e1f9208",
   "metadata": {},
   "outputs": [
    {
     "data": {
      "text/plain": [
       "'success'"
      ]
     },
     "execution_count": 9,
     "metadata": {},
     "output_type": "execute_result"
    }
   ],
   "source": [
    "score = 80\n",
    "\n",
    "message = 'success' if score>=60 else 'fail'\n",
    "message"
   ]
  },
  {
   "cell_type": "markdown",
   "id": "9a99d0a6",
   "metadata": {},
   "source": [
    "## 2. while문"
   ]
  },
  {
   "cell_type": "code",
   "execution_count": 11,
   "id": "9463f618",
   "metadata": {},
   "outputs": [
    {
     "name": "stdout",
     "output_type": "stream",
     "text": [
      "나무를 1번 찍었습니다.\n",
      "나무를 2번 찍었습니다.\n",
      "나무를 3번 찍었습니다.\n",
      "나무를 4번 찍었습니다.\n",
      "나무를 5번 찍었습니다.\n",
      "나무를 6번 찍었습니다.\n",
      "나무를 7번 찍었습니다.\n",
      "나무를 8번 찍었습니다.\n",
      "나무를 9번 찍었습니다.\n",
      "나무를 10번 찍었습니다.\n",
      "나무넘어갑니다\n"
     ]
    }
   ],
   "source": [
    "treehit = 0\n",
    "while treehit < 10 :\n",
    "    treehit = treehit + 1\n",
    "    print('나무를 %d번 찍었습니다.' % treehit)\n",
    "    if treehit == 10 :\n",
    "        print('나무넘어갑니다')"
   ]
  },
  {
   "cell_type": "code",
   "execution_count": null,
   "id": "909aab2b",
   "metadata": {},
   "outputs": [],
   "source": [
    "coffee = 10\n",
    "\n",
    "while True : \n",
    "    money = int(input())\n",
    "    if money == 300 :\n",
    "        print('커피를 줍니다')\n",
    "        coffee = coffee -1\n",
    "    elif money > 300 :\n",
    "        print('거스름돈 {money - 300}를 줍니다')\n",
    "        coffee = coffee -1\n",
    "    else : \n",
    "        print('돈을 다시 돌려주고 커피를 주지 않습니다')\n",
    "        print('남은 커피의 개수는 {coffee}입니다')\n",
    "    if coffee == 0 :\n",
    "        print('커피가 다 떨어졌습니다')\n",
    "        break\n"
   ]
  },
  {
   "cell_type": "code",
   "execution_count": 26,
   "id": "f4ccd251",
   "metadata": {},
   "outputs": [
    {
     "name": "stdout",
     "output_type": "stream",
     "text": [
      "1\n",
      "3\n",
      "5\n",
      "7\n",
      "9\n"
     ]
    }
   ],
   "source": [
    "a= 0\n",
    "while a < 10 :\n",
    "    a = a + 1\n",
    "    if a % 2==0 : continue # 맨 처음으로 돌아가기\n",
    "    print(a)"
   ]
  },
  {
   "cell_type": "markdown",
   "id": "f77a67aa",
   "metadata": {},
   "source": [
    "## 3. for문"
   ]
  },
  {
   "cell_type": "markdown",
   "id": "1848bdc9",
   "metadata": {},
   "source": [
    "#### 전형적인 for 문"
   ]
  },
  {
   "cell_type": "code",
   "execution_count": 28,
   "id": "10cd3179",
   "metadata": {},
   "outputs": [
    {
     "name": "stdout",
     "output_type": "stream",
     "text": [
      "one\n",
      "two\n",
      "three\n"
     ]
    }
   ],
   "source": [
    "test_list = ['one', 'two', 'three']\n",
    "for i in test_list : \n",
    "      print(i)"
   ]
  },
  {
   "cell_type": "code",
   "execution_count": 35,
   "id": "21d0d80b",
   "metadata": {},
   "outputs": [
    {
     "name": "stdout",
     "output_type": "stream",
     "text": [
      "1번학생은 합격입니다\n",
      "2번학생은 불합격입니다\n",
      "3번학생은 불합격입니다\n",
      "4번학생은 불합격입니다\n",
      "5번학생은 합격입니다\n"
     ]
    }
   ],
   "source": [
    "marks = [90, 25, 57, 45, 80]\n",
    "number = 0\n",
    "\n",
    "for i in marks :\n",
    "    number = number + 1\n",
    "    if i >= 60 : \n",
    "        print('%d번학생은 합격입니다' % number)\n",
    "    else : \n",
    "        print('%d번학생은 불합격입니다' % number)"
   ]
  },
  {
   "cell_type": "code",
   "execution_count": 36,
   "id": "ef64de0d",
   "metadata": {},
   "outputs": [
    {
     "name": "stdout",
     "output_type": "stream",
     "text": [
      "1 번학생은 합격입니다\n",
      "2 번학생은 불합격입니다\n",
      "3 번학생은 불합격입니다\n",
      "4 번학생은 불합격입니다\n",
      "5 번학생은 합격입니다\n"
     ]
    }
   ],
   "source": [
    "marks = [90, 25, 57, 45, 80]\n",
    "number = 0\n",
    "\n",
    "for i in marks :\n",
    "    number = number + 1\n",
    "    if i >= 60 : \n",
    "        print(number,'번학생은 합격입니다' )\n",
    "    else : \n",
    "        print(number,'번학생은 불합격입니다' )"
   ]
  },
  {
   "cell_type": "code",
   "execution_count": 38,
   "id": "a0311476",
   "metadata": {},
   "outputs": [
    {
     "name": "stdout",
     "output_type": "stream",
     "text": [
      "0 번 학생 축하합니다. 합격입니다\n",
      "4 번 학생 축하합니다. 합격입니다\n"
     ]
    }
   ],
   "source": [
    "marks = [90, 25, 57, 45, 80]\n",
    "\n",
    "for i in range(len(marks)) :\n",
    "    if marks[i] < 60 : continue \n",
    "    print(i, '번 학생 축하합니다. 합격입니다')"
   ]
  },
  {
   "cell_type": "code",
   "execution_count": 39,
   "id": "b9dc5a49",
   "metadata": {},
   "outputs": [
    {
     "data": {
      "text/plain": [
       "[6, 12]"
      ]
     },
     "execution_count": 39,
     "metadata": {},
     "output_type": "execute_result"
    }
   ],
   "source": [
    "a = [1,2,3,4]\n",
    "\n",
    "result = [num * 3 for num in a if num % 2 == 0]\n",
    "result #짝수만 3곱하기"
   ]
  }
 ],
 "metadata": {
  "kernelspec": {
   "display_name": "Python 3 (ipykernel)",
   "language": "python",
   "name": "python3"
  },
  "language_info": {
   "codemirror_mode": {
    "name": "ipython",
    "version": 3
   },
   "file_extension": ".py",
   "mimetype": "text/x-python",
   "name": "python",
   "nbconvert_exporter": "python",
   "pygments_lexer": "ipython3",
   "version": "3.9.13"
  }
 },
 "nbformat": 4,
 "nbformat_minor": 5
}
